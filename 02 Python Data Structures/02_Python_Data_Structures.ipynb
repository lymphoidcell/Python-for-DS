{
  "nbformat": 4,
  "nbformat_minor": 0,
  "metadata": {
    "colab": {
      "provenance": []
    },
    "kernelspec": {
      "name": "python3",
      "display_name": "Python 3"
    },
    "language_info": {
      "name": "python"
    }
  },
  "cells": [
    {
      "cell_type": "markdown",
      "source": [
        "Theophanie Scholastica Tanzil's Notebook"
      ],
      "metadata": {
        "id": "6zjN-YbN8rfs"
      }
    },
    {
      "cell_type": "markdown",
      "source": [
        "# Python Data Structures"
      ],
      "metadata": {
        "id": "tLfaQrb980DK"
      }
    },
    {
      "cell_type": "markdown",
      "source": [
        "## **Lists**\n",
        "List are ordered, mutable collections that can hold a variety of data types."
      ],
      "metadata": {
        "id": "B60VZbT-3Pup"
      }
    },
    {
      "cell_type": "markdown",
      "source": [
        "### Creating and accessing Lists"
      ],
      "metadata": {
        "id": "orRcZCxl3bbo"
      }
    },
    {
      "cell_type": "code",
      "source": [
        "fruits = ['Apple', 'Banana', 'Cherry', 'Date', 'Elderberry']\n",
        "print(\"List of Fruits:\", fruits)\n",
        "\n",
        "# accessing elements in the list by index\n",
        "print(\"First fruit:\", fruits[0])\n",
        "print(\"Last fruit:\", fruits[-1])\n",
        "\n",
        "# slicing\n",
        "print(\"First three fruits:\", fruits[:3])\n",
        "print(\"Last two fruits:\", fruits[-2:])"
      ],
      "metadata": {
        "colab": {
          "base_uri": "https://localhost:8080/"
        },
        "id": "Lgqox7933ZRV",
        "outputId": "b28db07d-da64-4811-9998-7a60fb6d6c1d"
      },
      "execution_count": 1,
      "outputs": [
        {
          "output_type": "stream",
          "name": "stdout",
          "text": [
            "List of Fruits: ['Apple', 'Banana', 'Cherry', 'Date', 'Elderberry']\n",
            "First fruit: Apple\n",
            "Last fruit: Elderberry\n",
            "First three fruits: ['Apple', 'Banana', 'Cherry']\n",
            "Last two fruits: ['Date', 'Elderberry']\n"
          ]
        }
      ]
    },
    {
      "cell_type": "markdown",
      "source": [
        "### Using Common List Methods\n",
        "Python lists come with handy methods to manipulate them."
      ],
      "metadata": {
        "id": "kwS49xsf_DZj"
      }
    },
    {
      "cell_type": "code",
      "source": [
        "# init\n",
        "fruits_2 = ['Apple', 'Banana', 'Cherry', 'Pineapple']\n",
        "\n",
        "# append\n",
        "fruits_2.append('Date')\n",
        "print(\"After append:\", fruits_2)\n",
        "\n",
        "# add a fruit at index 1\n",
        "fruits_2.insert(1, 'Elderberry')\n",
        "print(\"After insert:\", fruits_2)\n",
        "\n",
        "# remove\n",
        "fruits_2.remove('Banana')\n",
        "print(\"After remove:\", fruits_2)\n",
        "\n",
        "# pop 3rd element\n",
        "popped_fruit = fruits.pop(2)\n",
        "print(\"After pop:\", fruits_2)\n",
        "print(\"Popped Fruit:\", popped_fruit)\n",
        "\n",
        "# find the index of pineapple\n",
        "index = fruits_2.index('Pineapple')\n",
        "print(\"Index of Pineapple:\", index)\n",
        "\n",
        "# count apple's appearance\n",
        "fruits_2.append('Apple')\n",
        "count = fruits_2.count('Apple')\n",
        "print(\"Number of Apples:\", count)\n",
        "\n",
        "# sort\n",
        "fruits_2.sort()\n",
        "print(\"After sort:\", fruits_2)\n",
        "\n",
        "# reverse\n",
        "fruits_2.reverse()\n",
        "print(\"After reverse:\", fruits_2)\n",
        "\n",
        "# clear\n",
        "fruits_2.clear()\n",
        "print(\"After clear:\", fruits_2)"
      ],
      "metadata": {
        "colab": {
          "base_uri": "https://localhost:8080/"
        },
        "id": "k6yPPG3m3pID",
        "outputId": "8d627b49-8b1a-4c4f-d58f-0d6123d451d3"
      },
      "execution_count": 4,
      "outputs": [
        {
          "output_type": "stream",
          "name": "stdout",
          "text": [
            "After append: ['Apple', 'Banana', 'Cherry', 'Pineapple', 'Date']\n",
            "After insert: ['Apple', 'Elderberry', 'Banana', 'Cherry', 'Pineapple', 'Date']\n",
            "After remove: ['Apple', 'Elderberry', 'Cherry', 'Pineapple', 'Date']\n",
            "After pop: ['Apple', 'Elderberry', 'Cherry', 'Pineapple', 'Date']\n",
            "Popped Fruit: Date\n",
            "Index of Pineapple: 3\n",
            "Number of Apples: 2\n",
            "After sort: ['Apple', 'Apple', 'Cherry', 'Date', 'Elderberry', 'Pineapple']\n",
            "After reverse: ['Pineapple', 'Elderberry', 'Date', 'Cherry', 'Apple', 'Apple']\n",
            "After clear: []\n"
          ]
        }
      ]
    },
    {
      "cell_type": "markdown",
      "source": [
        "### Using Slice Notation\n",
        "Slice let us access parts of a list easily."
      ],
      "metadata": {
        "id": "UOtZ7ziBIg6m"
      }
    },
    {
      "cell_type": "code",
      "source": [
        "# init\n",
        "numbers = [10, 20, 30, 40, 50 , 60, 70, 80]\n",
        "\n",
        "# slicing\n",
        "print(\"All elements:\", numbers[:])\n",
        "print(\"Elements 2 to 5:\", numbers[2:6])\n",
        "print(\"First four elements:\", numbers[:4])\n",
        "print(\"From index 4 onwards:\", numbers[4:])\n",
        "print(\"Every second element:\", numbers[::2])\n",
        "print(\"Reversed list:\", numbers[::-1])"
      ],
      "metadata": {
        "colab": {
          "base_uri": "https://localhost:8080/"
        },
        "id": "MfzlqGNj_6Ov",
        "outputId": "e750d475-d8d9-4b0b-8540-2349a52d1537"
      },
      "execution_count": 5,
      "outputs": [
        {
          "output_type": "stream",
          "name": "stdout",
          "text": [
            "All elements: [10, 20, 30, 40, 50, 60, 70, 80]\n",
            "Elements 2 to 5: [30, 40, 50, 60]\n",
            "First four elements: [10, 20, 30, 40]\n",
            "From index 4 onwards: [50, 60, 70, 80]\n",
            "Every second element: [10, 30, 50, 70]\n",
            "Reversed list: [80, 70, 60, 50, 40, 30, 20, 10]\n"
          ]
        }
      ]
    },
    {
      "cell_type": "markdown",
      "source": [
        "### Using a List as a Queue\n",
        "Queues follow FIFO (First-In-First-Out). Lists can act as queues, but `deque` is more efficient."
      ],
      "metadata": {
        "id": "wXLHMcsTakm8"
      }
    },
    {
      "cell_type": "code",
      "source": [
        "# init\n",
        "queue = []\n",
        "\n",
        "# enqueue elements\n",
        "queue.append('First')\n",
        "queue.append('Second')\n",
        "queue.append('Third')\n",
        "print(\"Queue after enqueuing:\", queue)\n",
        "\n",
        "# dequeue elements\n",
        "first_out = queue.pop(0)\n",
        "print(\"Dequeued Element:\", first_out)\n",
        "print(\"Queue after dequeuing:\", queue)\n",
        "\n",
        "second_out = queue.pop(0)\n",
        "print(\"Dequeued Element:\", second_out)\n",
        "print(\"Queue after dequeuing:\", queue)"
      ],
      "metadata": {
        "colab": {
          "base_uri": "https://localhost:8080/"
        },
        "id": "BiwVs3xLZ6Nq",
        "outputId": "01f24741-247a-4509-c49d-adf7ee2ad24c"
      },
      "execution_count": 6,
      "outputs": [
        {
          "output_type": "stream",
          "name": "stdout",
          "text": [
            "Queue after enqueuing: ['First', 'Second', 'Third']\n",
            "Dequeued Element: First\n",
            "Queue after dequeuing: ['Second', 'Third']\n",
            "Dequeued Element: Second\n",
            "Queue after dequeuing: ['Third']\n"
          ]
        }
      ]
    },
    {
      "cell_type": "markdown",
      "source": [
        "### Using a List as a Stack\n",
        "Stacks follow LIFO (Last-In-First-Out). Lists are perfect for this."
      ],
      "metadata": {
        "id": "Z0ti5gUEcyL0"
      }
    },
    {
      "cell_type": "code",
      "source": [
        "# init\n",
        "stack = []\n",
        "\n",
        "# push elements\n",
        "stack.append('Bottom')\n",
        "stack.append('Middle')\n",
        "stack.append('Top')\n",
        "print(\"Stack after pushing:\", stack)\n",
        "\n",
        "# pop elements\n",
        "top_element = stack.pop()\n",
        "print(\"Popped Element:\", top_element)\n",
        "print(\"Stack after popping:\", stack)\n",
        "\n",
        "middle_element = stack.pop()\n",
        "print(\"Popped Element:\", middle_element)\n",
        "print(\"Stack after popping:\", stack)"
      ],
      "metadata": {
        "colab": {
          "base_uri": "https://localhost:8080/"
        },
        "id": "e5txy6gha5PI",
        "outputId": "ba99457f-30bf-47d3-d5bc-4ef1db6a92ed"
      },
      "execution_count": 7,
      "outputs": [
        {
          "output_type": "stream",
          "name": "stdout",
          "text": [
            "Stack after pushing: ['Bottom', 'Middle', 'Top']\n",
            "Popped Element: Top\n",
            "Stack after popping: ['Bottom', 'Middle']\n",
            "Popped Element: Middle\n",
            "Stack after popping: ['Bottom']\n"
          ]
        }
      ]
    },
    {
      "cell_type": "markdown",
      "source": [
        "### Using Lists and Stacks for Natural Language Processing (NLP)\n",
        "Stacks can help manage nested structures, like parentheses in text."
      ],
      "metadata": {
        "id": "SdKf1U78e3m1"
      }
    },
    {
      "cell_type": "code",
      "source": [
        "def is_balanced_parentheses(s):\n",
        "    stack = []\n",
        "    for char in s:\n",
        "        if char == '(':\n",
        "            stack.append(char)\n",
        "        elif char == ')':\n",
        "            if not stack:\n",
        "                return False\n",
        "            stack.pop()\n",
        "    return not stack\n",
        "\n",
        "# test cases\n",
        "print(is_balanced_parentheses(\"(a + b) * (c + d)\"))\n",
        "print(is_balanced_parentheses(\"((a + b)\"))\n",
        "print(is_balanced_parentheses(\"(a + b))\"))"
      ],
      "metadata": {
        "colab": {
          "base_uri": "https://localhost:8080/"
        },
        "id": "f_T955aOeoXF",
        "outputId": "c74998ad-2142-4338-9a01-d64a7d64cef5"
      },
      "execution_count": 8,
      "outputs": [
        {
          "output_type": "stream",
          "name": "stdout",
          "text": [
            "True\n",
            "False\n",
            "False\n"
          ]
        }
      ]
    },
    {
      "cell_type": "markdown",
      "source": [
        "### Making Improvements with List Comprehensions\n",
        "List comprehensions offer a concise way to create lists."
      ],
      "metadata": {
        "id": "ijTD0XI-fDvB"
      }
    },
    {
      "cell_type": "code",
      "source": [
        "# loop to create a list of squares\n",
        "squares = []\n",
        "for x in range(10):\n",
        "    squares.append(x**2)\n",
        "print(\"Squares using loop:\", squares)\n",
        "\n",
        "# list comprehension\n",
        "squares_comp = [x**2 for x in range(10)]\n",
        "print(\"Squares using list comprehension:\", squares_comp)\n",
        "\n",
        "# filtering\n",
        "even_squares = [x**2 for x in range(10) if x % 2 == 0]\n",
        "print(\"Even Squares:\", even_squares)\n",
        "\n",
        "# nested list\n",
        "matrix = [[j for j in range(5)] for i in range(3)]\n",
        "print(\"Matrix:\", matrix)"
      ],
      "metadata": {
        "colab": {
          "base_uri": "https://localhost:8080/"
        },
        "id": "pAAA9smtfCH2",
        "outputId": "66abf856-4b4c-4f1f-c915-858a9e102ac8"
      },
      "execution_count": 9,
      "outputs": [
        {
          "output_type": "stream",
          "name": "stdout",
          "text": [
            "Squares using loop: [0, 1, 4, 9, 16, 25, 36, 49, 64, 81]\n",
            "Squares using list comprehension: [0, 1, 4, 9, 16, 25, 36, 49, 64, 81]\n",
            "Even Squares: [0, 4, 16, 36, 64]\n",
            "Matrix: [[0, 1, 2, 3, 4], [0, 1, 2, 3, 4], [0, 1, 2, 3, 4]]\n"
          ]
        }
      ]
    },
    {
      "cell_type": "markdown",
      "source": [
        "## **Tuples**\n",
        "Tuples are ordered, immutable collections."
      ],
      "metadata": {
        "id": "z_GFKzsKfWAD"
      }
    },
    {
      "cell_type": "markdown",
      "source": [
        "### Creating and Accessing Tuples"
      ],
      "metadata": {
        "id": "w9Cs8YaXfxU2"
      }
    },
    {
      "cell_type": "code",
      "source": [
        "person = ('Taylor Swift', 30, 'Singer')\n",
        "print(\"Tuple:\", person)\n",
        "\n",
        "# elements\n",
        "print(\"Name:\", person[0])\n",
        "print(\"Age:\", person[1])\n",
        "\n",
        "# slicing\n",
        "print(\"First two elements:\", person[:2])\n",
        "\n",
        "# unpacking\n",
        "name, age, profession = person\n",
        "print(\"Unpacked:\", name, age, profession)"
      ],
      "metadata": {
        "colab": {
          "base_uri": "https://localhost:8080/"
        },
        "id": "ylhXEGbDfUvN",
        "outputId": "910c4398-4e66-4c07-8af1-575186dd5c93"
      },
      "execution_count": 11,
      "outputs": [
        {
          "output_type": "stream",
          "name": "stdout",
          "text": [
            "Tuple: ('Taylor Swift', 30, 'Singer')\n",
            "Name: Taylor Swift\n",
            "Age: 30\n",
            "First two elements: ('Taylor Swift', 30)\n",
            "Unpacked: Taylor Swift 30 Singer\n"
          ]
        }
      ]
    },
    {
      "cell_type": "markdown",
      "source": [
        "### A List of Tuples\n",
        "Combining lists and tuples allows for structured data storage."
      ],
      "metadata": {
        "id": "GUObYFz6f3YZ"
      }
    },
    {
      "cell_type": "code",
      "source": [
        "# list of students\n",
        "students = [\n",
        "    ('Alice', 22, 'A'),\n",
        "    ('Bob', 21, 'B'),\n",
        "    ('Charlie', 23, 'A'),\n",
        "    ('David', 20, 'C')\n",
        "]\n",
        "\n",
        "print(\"List of Students:\")\n",
        "for student in students:\n",
        "    print(student)"
      ],
      "metadata": {
        "colab": {
          "base_uri": "https://localhost:8080/"
        },
        "id": "frA5tTLifkFm",
        "outputId": "f9147b90-1602-4534-f8b1-3f1b7851b44f"
      },
      "execution_count": 12,
      "outputs": [
        {
          "output_type": "stream",
          "name": "stdout",
          "text": [
            "List of Students:\n",
            "('Alice', 22, 'A')\n",
            "('Bob', 21, 'B')\n",
            "('Charlie', 23, 'A')\n",
            "('David', 20, 'C')\n"
          ]
        }
      ]
    },
    {
      "cell_type": "markdown",
      "source": [
        "### Immutability\n",
        "Tuples can't be changed after creation, unlike lists."
      ],
      "metadata": {
        "id": "UBHGlgxygFJf"
      }
    },
    {
      "cell_type": "code",
      "source": [
        "# immutable\n",
        "immutable_tuple = (1, 2, 3)\n",
        "print(\"Immutable Tuple:\", immutable_tuple)\n",
        "\n",
        "# attempting to modify\n",
        "# NOTE: will return in Error\n",
        "try:\n",
        "    immutable_tuple[0] = 10\n",
        "except TypeError as e:\n",
        "    print(\"Error:\", e)\n",
        "\n",
        "# mutable list\n",
        "mutable_list = [1, 2, 3]\n",
        "print(\"Mutable List before:\", mutable_list)\n",
        "mutable_list[0] = 10\n",
        "print(\"Mutable List after:\", mutable_list)"
      ],
      "metadata": {
        "colab": {
          "base_uri": "https://localhost:8080/"
        },
        "id": "m-LHzo2OgCyH",
        "outputId": "6d367dbd-2752-4e08-c6ae-bd8ae4c01530"
      },
      "execution_count": 13,
      "outputs": [
        {
          "output_type": "stream",
          "name": "stdout",
          "text": [
            "Immutable Tuple: (1, 2, 3)\n",
            "Error: 'tuple' object does not support item assignment\n",
            "Mutable List before: [1, 2, 3]\n",
            "Mutable List after: [10, 2, 3]\n"
          ]
        }
      ]
    },
    {
      "cell_type": "markdown",
      "source": [
        "## **Dictionaries**\n",
        "Dictionaries store data in key-value pairs."
      ],
      "metadata": {
        "id": "bjNbEXkRgglE"
      }
    },
    {
      "cell_type": "markdown",
      "source": [
        "### Creating and Accessing Dictionaries"
      ],
      "metadata": {
        "id": "63vt4Sh0glVW"
      }
    },
    {
      "cell_type": "code",
      "source": [
        "student = {\n",
        "    'Name': 'Alice',\n",
        "    'Age': 22,\n",
        "    'Major': 'Computer Science'\n",
        "}\n",
        "print(\"Dictionary:\", student)\n",
        "\n",
        "print(\"Name:\", student['Name'])\n",
        "print(\"Age:\", student.get('Age'))\n",
        "\n",
        "# adding a new key-value pair\n",
        "student['Graduated'] = False\n",
        "print(\"After adding Graduated:\", student)\n",
        "\n",
        "# removing a key-value pair\n",
        "removed = student.pop('Major')\n",
        "print(\"After removing Major:\", student)\n",
        "print(\"Removed Value:\", removed)\n",
        "\n",
        "# iterating through keys and values\n",
        "print(\"\\nKeys:\")\n",
        "for key in student:\n",
        "    print(key)\n",
        "\n",
        "print(\"\\nValues:\")\n",
        "for value in student.values():\n",
        "    print(value)\n",
        "\n",
        "print(\"\\nKey-Value Pairs:\")\n",
        "for key, value in student.items():\n",
        "    print(f\"{key}: {value}\")"
      ],
      "metadata": {
        "colab": {
          "base_uri": "https://localhost:8080/"
        },
        "id": "j9OgCNYagSY5",
        "outputId": "bcec3861-8c41-4073-c0df-2db512ec69ba"
      },
      "execution_count": 14,
      "outputs": [
        {
          "output_type": "stream",
          "name": "stdout",
          "text": [
            "Dictionary: {'Name': 'Alice', 'Age': 22, 'Major': 'Computer Science'}\n",
            "Name: Alice\n",
            "Age: 22\n",
            "After adding Graduated: {'Name': 'Alice', 'Age': 22, 'Major': 'Computer Science', 'Graduated': False}\n",
            "After removing Major: {'Name': 'Alice', 'Age': 22, 'Graduated': False}\n",
            "Removed Value: Computer Science\n",
            "\n",
            "Keys:\n",
            "Name\n",
            "Age\n",
            "Graduated\n",
            "\n",
            "Values:\n",
            "Alice\n",
            "22\n",
            "False\n",
            "\n",
            "Key-Value Pairs:\n",
            "Name: Alice\n",
            "Age: 22\n",
            "Graduated: False\n"
          ]
        }
      ]
    },
    {
      "cell_type": "markdown",
      "source": [
        "### A List of Dictionaries\n",
        "Lists can contain dictionaries for complex data structures."
      ],
      "metadata": {
        "id": "sErx1j60hHEi"
      }
    },
    {
      "cell_type": "code",
      "source": [
        "employees = [\n",
        "    {'Name': 'John', 'Age': 30, 'Department': 'HR'},\n",
        "    {'Name': 'Jane', 'Age': 25, 'Department': 'Engineering'},\n",
        "    {'Name': 'Dave', 'Age': 35, 'Department': 'Sales'}\n",
        "]\n",
        "\n",
        "print(\"List of Employees:\")\n",
        "for emp in employees:\n",
        "    print(emp)\n",
        "\n",
        "# specific info\n",
        "print(\"\\nEmployee Names:\")\n",
        "for emp in employees:\n",
        "    print(emp['Name'])\n",
        "\n",
        "# adding a new employee\n",
        "new_emp = {'Name': 'Eve', 'Age': 28, 'Department': 'Marketing'}\n",
        "employees.append(new_emp)\n",
        "print(\"\\nAfter adding Eve:\", employees)"
      ],
      "metadata": {
        "colab": {
          "base_uri": "https://localhost:8080/"
        },
        "id": "GNRpa9-Ag2nO",
        "outputId": "61c0cb88-7112-4270-9e20-e119f5a4eb70"
      },
      "execution_count": 16,
      "outputs": [
        {
          "output_type": "stream",
          "name": "stdout",
          "text": [
            "List of Employees:\n",
            "{'Name': 'John', 'Age': 30, 'Department': 'HR'}\n",
            "{'Name': 'Jane', 'Age': 25, 'Department': 'Engineering'}\n",
            "{'Name': 'Dave', 'Age': 35, 'Department': 'Sales'}\n",
            "\n",
            "Employee Names:\n",
            "John\n",
            "Jane\n",
            "Dave\n",
            "\n",
            "After adding Eve: [{'Name': 'John', 'Age': 30, 'Department': 'HR'}, {'Name': 'Jane', 'Age': 25, 'Department': 'Engineering'}, {'Name': 'Dave', 'Age': 35, 'Department': 'Sales'}, {'Name': 'Eve', 'Age': 28, 'Department': 'Marketing'}]\n"
          ]
        }
      ]
    },
    {
      "cell_type": "markdown",
      "source": [
        "### Adding to a Dictionary with `setdefault()`\n",
        "\n",
        "`setdefault()` adds a key with a default value if it doesn't exist."
      ],
      "metadata": {
        "id": "cmSHlnPrhXeT"
      }
    },
    {
      "cell_type": "code",
      "source": [
        "inventory = {}\n",
        "\n",
        "# add items\n",
        "inventory.setdefault('Apples', 10)\n",
        "inventory.setdefault('Bananas', 5)\n",
        "print(\"Inventory after setdefault:\", inventory)\n",
        "\n",
        "# attempt to set a default for an existing key\n",
        "inventory.setdefault('Apples', 20)\n",
        "print(\"After attempting to set Apples to 20:\", inventory)\n",
        "\n",
        "# update\n",
        "inventory['Bananas'] += 15\n",
        "print(\"After updating Bananas:\", inventory)"
      ],
      "metadata": {
        "colab": {
          "base_uri": "https://localhost:8080/"
        },
        "id": "brTbgzjKhTsF",
        "outputId": "850b6cd6-e5a5-47ce-e642-eb7062e17cd5"
      },
      "execution_count": 17,
      "outputs": [
        {
          "output_type": "stream",
          "name": "stdout",
          "text": [
            "Inventory after setdefault: {'Apples': 10, 'Bananas': 5}\n",
            "After attempting to set Apples to 20: {'Apples': 10, 'Bananas': 5}\n",
            "After updating Bananas: {'Apples': 10, 'Bananas': 20}\n"
          ]
        }
      ]
    },
    {
      "cell_type": "markdown",
      "source": [
        "### Loading JSON into a Dictionary\n",
        "We can convert JSON strings into Python dictionaries."
      ],
      "metadata": {
        "id": "SoJIDWlKhpgJ"
      }
    },
    {
      "cell_type": "code",
      "source": [
        "import json\n",
        "\n",
        "# JSON string\n",
        "json_data = '''\n",
        "{\n",
        "    \"Name\": \"Fany\",\n",
        "    \"Age\": 25,\n",
        "    \"City\": \"New York\",\n",
        "    \"Skills\": [\"Python\", \"Data Analysis\", \"Machine Learning\"]\n",
        "}\n",
        "'''\n",
        "\n",
        "# parse\n",
        "data = json.loads(json_data)\n",
        "print(\"Dictionary from JSON:\", data)\n",
        "\n",
        "print(\"Name:\", data['Name'])\n",
        "print(\"Skills:\", data['Skills'])"
      ],
      "metadata": {
        "colab": {
          "base_uri": "https://localhost:8080/"
        },
        "id": "2LFgi9wDhnVN",
        "outputId": "6d37eb35-3aa6-4d5a-b67e-e3fcc81a7c6a"
      },
      "execution_count": 18,
      "outputs": [
        {
          "output_type": "stream",
          "name": "stdout",
          "text": [
            "Dictionary from JSON: {'Name': 'Fany', 'Age': 25, 'City': 'New York', 'Skills': ['Python', 'Data Analysis', 'Machine Learning']}\n",
            "Name: Fany\n",
            "Skills: ['Python', 'Data Analysis', 'Machine Learning']\n"
          ]
        }
      ]
    },
    {
      "cell_type": "markdown",
      "source": [
        "## **Sets**\n",
        "Sets are unordered collections of unique elements."
      ],
      "metadata": {
        "id": "k4h7exqlh7Tn"
      }
    },
    {
      "cell_type": "markdown",
      "source": [
        "### Creating and Using Sets"
      ],
      "metadata": {
        "id": "fWwW7YvHiBvh"
      }
    },
    {
      "cell_type": "code",
      "source": [
        "fruits_3 = {'Apple', 'Banana', 'Cherry', 'Durian'}\n",
        "print(\"Set of Fruits:\", fruits_3)\n",
        "\n",
        "# add\n",
        "fruits_3.add('Date')\n",
        "print(\"After adding Date:\", fruits_3)\n",
        "\n",
        "# adding a duplicate\n",
        "fruits_3.add('Durian')\n",
        "print(\"After adding duplicate Durian:\", fruits_3)\n",
        "\n",
        "# remove\n",
        "fruits_3.remove('Banana')\n",
        "print(\"After removing Banana:\", fruits_3)\n",
        "\n",
        "# discard\n",
        "fruits_3.discard('Elderberry')\n",
        "print(\"After discarding Elderberry:\", fruits_3)\n",
        "\n",
        "# iteration\n",
        "print(\"\\nFruits in the set:\")\n",
        "for fruit in fruits_3:\n",
        "    print(fruit)"
      ],
      "metadata": {
        "colab": {
          "base_uri": "https://localhost:8080/"
        },
        "id": "EJ1c9Arnh3lu",
        "outputId": "4f99a3a0-9e9a-4b5f-a1d6-1dba4186a381"
      },
      "execution_count": 20,
      "outputs": [
        {
          "output_type": "stream",
          "name": "stdout",
          "text": [
            "Set of Fruits: {'Apple', 'Durian', 'Banana', 'Cherry'}\n",
            "After adding Date: {'Banana', 'Apple', 'Durian', 'Date', 'Cherry'}\n",
            "After adding duplicate Durian: {'Banana', 'Apple', 'Durian', 'Date', 'Cherry'}\n",
            "After removing Banana: {'Apple', 'Durian', 'Date', 'Cherry'}\n",
            "After discarding Elderberry: {'Apple', 'Durian', 'Date', 'Cherry'}\n",
            "\n",
            "Fruits in the set:\n",
            "Apple\n",
            "Durian\n",
            "Date\n",
            "Cherry\n"
          ]
        }
      ]
    },
    {
      "cell_type": "markdown",
      "source": [
        "### Removing Duplicates from Sequences\n",
        "Sets help remove duplicate items from lists."
      ],
      "metadata": {
        "id": "u2CnENEPisfI"
      }
    },
    {
      "cell_type": "code",
      "source": [
        "# list with duplicates\n",
        "numbers = [1, 2, 3, 2, 4, 3, 5, 1, 6]\n",
        "\n",
        "# removing duplicates\n",
        "unique_numbers = list(set(numbers))\n",
        "print(\"Unique Numbers:\", unique_numbers)\n",
        "\n",
        "# order\n",
        "unique_ordered = list(dict.fromkeys(numbers))\n",
        "print(\"Unique Numbers (Ordered):\", unique_ordered)"
      ],
      "metadata": {
        "colab": {
          "base_uri": "https://localhost:8080/"
        },
        "id": "ju3WBy1HifYh",
        "outputId": "48bf1b08-9620-4960-db8c-db115b5e5772"
      },
      "execution_count": 21,
      "outputs": [
        {
          "output_type": "stream",
          "name": "stdout",
          "text": [
            "Unique Numbers: [1, 2, 3, 4, 5, 6]\n",
            "Unique Numbers (Ordered): [1, 2, 3, 4, 5, 6]\n"
          ]
        }
      ]
    },
    {
      "cell_type": "markdown",
      "source": [
        "### Performing Common Set Operations\n",
        "Sets support operations like union, intersection, difference, and symmetric difference."
      ],
      "metadata": {
        "id": "GbZWeGxTi8s8"
      }
    },
    {
      "cell_type": "code",
      "source": [
        "# two sets\n",
        "set_a = {'Apple', 'Banana', 'Cherry', 'Date'}\n",
        "set_b = {'Cherry', 'Date', 'Elderberry', 'Fig'}\n",
        "\n",
        "print(\"Set A:\", set_a)\n",
        "print(\"Set B:\", set_b)\n",
        "\n",
        "# union\n",
        "union_set = set_a.union(set_b)\n",
        "print(\"\\nUnion:\", union_set)\n",
        "\n",
        "# intersection\n",
        "intersection_set = set_a.intersection(set_b)\n",
        "print(\"Intersection:\", intersection_set)\n",
        "\n",
        "# difference (A - B)\n",
        "difference_set = set_a.difference(set_b)\n",
        "print(\"Difference (A - B):\", difference_set)\n",
        "\n",
        "# symmetric difference\n",
        "sym_diff_set = set_a.symmetric_difference(set_b)\n",
        "print(\"Symmetric Difference:\", sym_diff_set)\n",
        "\n",
        "# subset and superset\n",
        "print(\"\\nIs Set A a subset of Set B?\", set_a.issubset(set_b))\n",
        "print(\"Is Set A a superset of Set B?\", set_a.issuperset(set_b))"
      ],
      "metadata": {
        "colab": {
          "base_uri": "https://localhost:8080/"
        },
        "id": "f3oRRqGhi43q",
        "outputId": "083d5122-3990-4725-ee55-8094d4a7eb4c"
      },
      "execution_count": 22,
      "outputs": [
        {
          "output_type": "stream",
          "name": "stdout",
          "text": [
            "Set A: {'Apple', 'Date', 'Cherry', 'Banana'}\n",
            "Set B: {'Fig', 'Date', 'Cherry', 'Elderberry'}\n",
            "\n",
            "Union: {'Banana', 'Apple', 'Fig', 'Date', 'Cherry', 'Elderberry'}\n",
            "Intersection: {'Date', 'Cherry'}\n",
            "Difference (A - B): {'Apple', 'Banana'}\n",
            "Symmetric Difference: {'Banana', 'Apple', 'Fig', 'Elderberry'}\n",
            "\n",
            "Is Set A a subset of Set B? False\n",
            "Is Set A a superset of Set B? False\n"
          ]
        }
      ]
    }
  ]
}