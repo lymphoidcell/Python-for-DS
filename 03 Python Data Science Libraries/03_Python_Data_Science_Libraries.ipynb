{
  "nbformat": 4,
  "nbformat_minor": 0,
  "metadata": {
    "colab": {
      "provenance": []
    },
    "kernelspec": {
      "name": "python3",
      "display_name": "Python 3"
    },
    "language_info": {
      "name": "python"
    }
  },
  "cells": [
    {
      "cell_type": "markdown",
      "source": [
        "Theophanie Scholastica Tanzil's Notebook"
      ],
      "metadata": {
        "id": "_8GUhrZwmgNQ"
      }
    },
    {
      "cell_type": "markdown",
      "source": [
        "# Python Data Science Libraries"
      ],
      "metadata": {
        "id": "SYSLfiUomhGo"
      }
    },
    {
      "cell_type": "markdown",
      "source": [
        "## **NumPy**\n",
        "NumPy is a library for `working with arrays` and is the foundation of most scientific computing in Python.\n",
        "\n",
        "### **Key Features of NumPy**\n",
        "NumPy arrays are similar to Python lists, but require less memory and are usually faster because they use optimized, precompiled C code. They also support element-wise operations, allowing for basic arithmetic on entire arrays using compact and readable code. For example, you can add two NumPy arrays together using the + operator:"
      ],
      "metadata": {
        "id": "0nlX4vc4mklQ"
      }
    },
    {
      "cell_type": "code",
      "execution_count": 2,
      "metadata": {
        "colab": {
          "base_uri": "https://localhost:8080/"
        },
        "id": "LiULaU-HmZ34",
        "outputId": "bcc90500-c920-44fb-9d7a-b2686bce954d"
      },
      "outputs": [
        {
          "output_type": "stream",
          "name": "stdout",
          "text": [
            "[5 7 9]\n"
          ]
        }
      ],
      "source": [
        "import numpy as np\n",
        "\n",
        "# create two NumPy arrays\n",
        "array1 = np.array([1, 2, 3])\n",
        "array2 = np.array([4, 5, 6])\n",
        "\n",
        "# add the two arrays together\n",
        "result = array1 + array2\n",
        "\n",
        "print(result)"
      ]
    },
    {
      "cell_type": "markdown",
      "source": [
        "### Creating NumPy Arrays Again. Case Example: Salaries\n",
        "We'll create a 1D array for salaries of 3 people and a 2D array that includes a base salary component."
      ],
      "metadata": {
        "id": "M2JzpADzG5Sv"
      }
    },
    {
      "cell_type": "code",
      "source": [
        "# 1D array\n",
        "employees = np.array(['Erika', 'Auliyan', 'Annisa', 'Maheza'])\n",
        "print(\"Employee Names:\", employees)\n",
        "\n",
        "salaries = np.array([5000000, 8000000, 7200000, 4500000])\n",
        "print(\"Salaries:\", salaries)"
      ],
      "metadata": {
        "colab": {
          "base_uri": "https://localhost:8080/"
        },
        "id": "8tjUD8LUHECp",
        "outputId": "c28e2f5b-64e8-4748-840d-e170254f41d5"
      },
      "execution_count": 3,
      "outputs": [
        {
          "output_type": "stream",
          "name": "stdout",
          "text": [
            "Employee Names: ['Erika' 'Auliyan' 'Annisa' 'Maheza']\n",
            "Salaries: [5000000 8000000 7200000 4500000]\n"
          ]
        }
      ]
    },
    {
      "cell_type": "code",
      "source": [
        "# 2D array\n",
        "kade_salary = [6000, 8000, 9000]\n",
        "salsa_salary = [6700, 8800, 9900]\n",
        "farren_salary = [8000, 8700, 9000]\n",
        "\n",
        "base_salary = np.array([kade_salary, salsa_salary, farren_salary])\n",
        "print(base_salary)"
      ],
      "metadata": {
        "colab": {
          "base_uri": "https://localhost:8080/"
        },
        "id": "THhiueiMULHP",
        "outputId": "e5b9375b-121c-4cd5-f958-d9b8a97b9e42"
      },
      "execution_count": 4,
      "outputs": [
        {
          "output_type": "stream",
          "name": "stdout",
          "text": [
            "[[6000 8000 9000]\n",
            " [6700 8800 9900]\n",
            " [8000 8700 9000]]\n"
          ]
        }
      ]
    },
    {
      "cell_type": "code",
      "source": [
        "kade_bonus = [500, 600, 700]\n",
        "salsa_bonus = [600, 700, 800]\n",
        "farren_bonus = [700, 800, 900]\n",
        "\n",
        "bonus = np.array([kade_bonus, salsa_bonus, farren_bonus])\n",
        "print(bonus)"
      ],
      "metadata": {
        "colab": {
          "base_uri": "https://localhost:8080/"
        },
        "id": "FbdlrQubVWi-",
        "outputId": "49a961ab-2adb-4b85-f92a-7a498a6cff6e"
      },
      "execution_count": 5,
      "outputs": [
        {
          "output_type": "stream",
          "name": "stdout",
          "text": [
            "[[500 600 700]\n",
            " [600 700 800]\n",
            " [700 800 900]]\n"
          ]
        }
      ]
    },
    {
      "cell_type": "markdown",
      "source": [
        "### Performing Element-Wise Operations\n",
        "Add the `base_salary` and `bonus` arrays together to determine the total amount paid each month to each employee:"
      ],
      "metadata": {
        "id": "tjTGXQKFXt4y"
      }
    },
    {
      "cell_type": "code",
      "source": [
        "salary_bonus = base_salary + bonus\n",
        "print(type(salary_bonus))\n",
        "print(salary_bonus)"
      ],
      "metadata": {
        "colab": {
          "base_uri": "https://localhost:8080/"
        },
        "id": "RRIg_6o9X92x",
        "outputId": "00b5df98-6259-4e05-f352-bfbcf2785ec5"
      },
      "execution_count": 6,
      "outputs": [
        {
          "output_type": "stream",
          "name": "stdout",
          "text": [
            "<class 'numpy.ndarray'>\n",
            "[[ 6500  8600  9700]\n",
            " [ 7300  9500 10700]\n",
            " [ 8700  9500  9900]]\n"
          ]
        }
      ]
    },
    {
      "cell_type": "code",
      "source": [
        "# % bonus\n",
        "percentage_bonus = (bonus / base_salary) * 100\n",
        "print(\"\\nPercentage Bonus (%):\\n\", percentage_bonus)"
      ],
      "metadata": {
        "colab": {
          "base_uri": "https://localhost:8080/"
        },
        "id": "ImTi74dTYXRl",
        "outputId": "c0c5e524-6e49-43cc-8f32-5938403f813f"
      },
      "execution_count": 7,
      "outputs": [
        {
          "output_type": "stream",
          "name": "stdout",
          "text": [
            "\n",
            "Percentage Bonus (%):\n",
            " [[ 8.33333333  7.5         7.77777778]\n",
            " [ 8.95522388  7.95454545  8.08080808]\n",
            " [ 8.75        9.1954023  10.        ]]\n"
          ]
        }
      ]
    },
    {
      "cell_type": "markdown",
      "source": [
        "### Using NumPy Statistical Functions\n",
        "NumPy’s statistical functions allow us to analyze the contents of an array."
      ],
      "metadata": {
        "id": "INxBlQkuYC9w"
      }
    },
    {
      "cell_type": "code",
      "source": [
        "print(salary_bonus.max())\n",
        "\n",
        "print(np.amax(salary_bonus, axis = 1))\n",
        "\n",
        "print(np.amax(salary_bonus, axis = 0))"
      ],
      "metadata": {
        "colab": {
          "base_uri": "https://localhost:8080/"
        },
        "id": "784G_OUCYLSv",
        "outputId": "bcb636b8-9d48-4f3e-a0c1-b4b608f92d4b"
      },
      "execution_count": 8,
      "outputs": [
        {
          "output_type": "stream",
          "name": "stdout",
          "text": [
            "10700\n",
            "[ 9700 10700  9900]\n",
            "[ 8700  9500 10700]\n"
          ]
        }
      ]
    },
    {
      "cell_type": "markdown",
      "source": [
        "### Exercise: Chaining NumPy Statistical Functions\n",
        "Find the average of the maximum amounts paid each month to all employees."
      ],
      "metadata": {
        "id": "twFuiHraZQLj"
      }
    },
    {
      "cell_type": "code",
      "source": [
        "# 'data' is a 2D array where rows represent months and columns represent employees\n",
        "data = np.array([[5000, 6000, 5500],\n",
        "                 [5200, 6100, 5600],\n",
        "                 [5300, 6200, 5700]])\n",
        "\n",
        "# maximum amount paid each month (row-wise maximum)\n",
        "monthly_max = np.amax(data, axis=1)\n",
        "print(\"Monthly Maximums:\", monthly_max)\n",
        "\n",
        "# average of these maximums\n",
        "average_max = np.average(monthly_max)\n",
        "print(\"Average of Monthly Maximums:\", average_max)"
      ],
      "metadata": {
        "colab": {
          "base_uri": "https://localhost:8080/"
        },
        "id": "0uUhholkZcYi",
        "outputId": "850a0251-66ba-46a4-bd59-6f00395e2b9d"
      },
      "execution_count": 9,
      "outputs": [
        {
          "output_type": "stream",
          "name": "stdout",
          "text": [
            "Monthly Maximums: [6000 6100 6200]\n",
            "Average of Monthly Maximums: 6100.0\n"
          ]
        }
      ]
    },
    {
      "cell_type": "markdown",
      "source": [
        "## **Pandas**\n",
        "Pandas is a powerful open-source Python library designed for data analysis, providing `high-level data structures and manipulation tools`.\n",
        "\n",
        "### **Key Features of Pandas**\n",
        "Pandas offers a wide range of functionalities for data manipulation, including merging, reshaping, and handling missing data. It provides tools for data cleaning, grouping, and visualization, making it a versatile library for data wrangling and analysis. The library's ability to handle time series data and perform arithmetic operations with metadata makes it particularly useful for financial and statistical applications."
      ],
      "metadata": {
        "id": "s_jzWxzLopHT"
      }
    },
    {
      "cell_type": "markdown",
      "source": [
        "### Creating a Series of Employee Names"
      ],
      "metadata": {
        "id": "pV8VlE4Bc8Zu"
      }
    },
    {
      "cell_type": "code",
      "source": [
        "import pandas as pd\n",
        "\n",
        "# Pandas Series with employee names\n",
        "employee_names = pd.Series(['Maman', 'Agnes', 'Candra', 'Inayah'])\n",
        "print(\"Employee Names Series:\\n\", employee_names)"
      ],
      "metadata": {
        "colab": {
          "base_uri": "https://localhost:8080/"
        },
        "id": "edoB1xVLnCt3",
        "outputId": "53593f87-c838-4318-af2c-bba70c10a7c3"
      },
      "execution_count": 11,
      "outputs": [
        {
          "output_type": "stream",
          "name": "stdout",
          "text": [
            "Employee Names Series:\n",
            " 0     Maman\n",
            "1     Agnes\n",
            "2    Candra\n",
            "3    Inayah\n",
            "dtype: object\n"
          ]
        }
      ]
    },
    {
      "cell_type": "markdown",
      "source": [
        "### Creating a Series with User-Defined Indices"
      ],
      "metadata": {
        "id": "5MmPoPXNc4TO"
      }
    },
    {
      "cell_type": "code",
      "source": [
        "# Series with custom indices\n",
        "employee_ids = pd.Series(['Yulia', 'Marsyani', 'Marita'], index=[9001, 9002, 9003])\n",
        "print(\"Employee Names with IDs:\\n\", employee_ids)"
      ],
      "metadata": {
        "colab": {
          "base_uri": "https://localhost:8080/"
        },
        "id": "0ZoBnEhbZ-2k",
        "outputId": "5913f834-4838-407c-9176-81c409d1b7ee"
      },
      "execution_count": 12,
      "outputs": [
        {
          "output_type": "stream",
          "name": "stdout",
          "text": [
            "Employee Names with IDs:\n",
            " 9001       Yulia\n",
            "9002    Marsyani\n",
            "9003      Marita\n",
            "dtype: object\n"
          ]
        }
      ]
    },
    {
      "cell_type": "markdown",
      "source": [
        "### Accessing Data in Series Using `iloc`"
      ],
      "metadata": {
        "id": "QjJFSmjPc09B"
      }
    },
    {
      "cell_type": "code",
      "source": [
        "# elements by position\n",
        "print(\"First Employee:\", employee_ids.iloc[0])\n",
        "print(\"Second Employee:\", employee_ids.iloc[1])"
      ],
      "metadata": {
        "colab": {
          "base_uri": "https://localhost:8080/"
        },
        "id": "QEcAIh62aZ07",
        "outputId": "3ac1dd1f-e67c-4d34-ecc2-41d48152ddc9"
      },
      "execution_count": 13,
      "outputs": [
        {
          "output_type": "stream",
          "name": "stdout",
          "text": [
            "First Employee: Yulia\n",
            "Second Employee: Marsyani\n"
          ]
        }
      ]
    },
    {
      "cell_type": "markdown",
      "source": [
        "### Combining Series into a DataFrame"
      ],
      "metadata": {
        "id": "FaiWOH8qcx3q"
      }
    },
    {
      "cell_type": "code",
      "source": [
        "# additional Series\n",
        "employee_ages = pd.Series([25, 30, 35], index=[9001, 9002, 9003])\n",
        "employee_departments = pd.Series(['HR', 'Engineering', 'Sales'], index=[9001, 9002, 9003])\n",
        "\n",
        "# combine Series into a DataFrame\n",
        "employee_df = pd.DataFrame({\n",
        "    'Name': employee_ids,\n",
        "    'Age': employee_ages,\n",
        "    'Department': employee_departments\n",
        "})\n",
        "\n",
        "print(\"Employee DataFrame:\\n\", employee_df)"
      ],
      "metadata": {
        "colab": {
          "base_uri": "https://localhost:8080/"
        },
        "id": "-MfqAHl5afjp",
        "outputId": "471a5818-0513-45d9-91a6-16903bfc3a46"
      },
      "execution_count": 14,
      "outputs": [
        {
          "output_type": "stream",
          "name": "stdout",
          "text": [
            "Employee DataFrame:\n",
            "           Name  Age   Department\n",
            "9001     Yulia   25           HR\n",
            "9002  Marsyani   30  Engineering\n",
            "9003    Marita   35        Sales\n"
          ]
        }
      ]
    },
    {
      "cell_type": "markdown",
      "source": [
        "### Creating a Pandas DataFrame Using yfinance and Plotting Histogram\n",
        "Fetching Tesla's ('TSLA') stock data and plot a histogram of the closing prices."
      ],
      "metadata": {
        "id": "n8V81zFTcp_w"
      }
    },
    {
      "cell_type": "code",
      "source": [
        "!pip install yfinance\n",
        "\n",
        "import yfinance as yf\n",
        "import matplotlib.pyplot as plt\n",
        "\n",
        "# fetching Tesla's stock data for the past month\n",
        "tsla = yf.download('TSLA', period='1mo')\n",
        "\n",
        "print(\"Tesla Stock Data:\\n\", tsla.head())\n",
        "\n",
        "# histogram of the closing prices\n",
        "plt.figure(figsize=(10,6))\n",
        "tsla['Close'].hist(bins=20, color='skyblue', edgecolor='black')\n",
        "plt.title('Histogram of Tesla Closing Prices')\n",
        "plt.xlabel('Closing Price ($)')\n",
        "plt.ylabel('Frequency')\n",
        "plt.show()"
      ],
      "metadata": {
        "colab": {
          "base_uri": "https://localhost:8080/",
          "height": 1000
        },
        "id": "EgwlGIUBanFB",
        "outputId": "f607f370-c8a9-4628-af89-1ebd23502803"
      },
      "execution_count": 15,
      "outputs": [
        {
          "output_type": "stream",
          "name": "stdout",
          "text": [
            "Requirement already satisfied: yfinance in /usr/local/lib/python3.10/dist-packages (0.2.44)\n",
            "Requirement already satisfied: pandas>=1.3.0 in /usr/local/lib/python3.10/dist-packages (from yfinance) (2.2.2)\n",
            "Requirement already satisfied: numpy>=1.16.5 in /usr/local/lib/python3.10/dist-packages (from yfinance) (1.26.4)\n",
            "Requirement already satisfied: requests>=2.31 in /usr/local/lib/python3.10/dist-packages (from yfinance) (2.32.3)\n",
            "Requirement already satisfied: multitasking>=0.0.7 in /usr/local/lib/python3.10/dist-packages (from yfinance) (0.0.11)\n",
            "Requirement already satisfied: lxml>=4.9.1 in /usr/local/lib/python3.10/dist-packages (from yfinance) (4.9.4)\n",
            "Requirement already satisfied: platformdirs>=2.0.0 in /usr/local/lib/python3.10/dist-packages (from yfinance) (4.3.6)\n",
            "Requirement already satisfied: pytz>=2022.5 in /usr/local/lib/python3.10/dist-packages (from yfinance) (2024.2)\n",
            "Requirement already satisfied: frozendict>=2.3.4 in /usr/local/lib/python3.10/dist-packages (from yfinance) (2.4.4)\n",
            "Requirement already satisfied: peewee>=3.16.2 in /usr/local/lib/python3.10/dist-packages (from yfinance) (3.17.6)\n",
            "Requirement already satisfied: beautifulsoup4>=4.11.1 in /usr/local/lib/python3.10/dist-packages (from yfinance) (4.12.3)\n",
            "Requirement already satisfied: html5lib>=1.1 in /usr/local/lib/python3.10/dist-packages (from yfinance) (1.1)\n",
            "Requirement already satisfied: soupsieve>1.2 in /usr/local/lib/python3.10/dist-packages (from beautifulsoup4>=4.11.1->yfinance) (2.6)\n",
            "Requirement already satisfied: six>=1.9 in /usr/local/lib/python3.10/dist-packages (from html5lib>=1.1->yfinance) (1.16.0)\n",
            "Requirement already satisfied: webencodings in /usr/local/lib/python3.10/dist-packages (from html5lib>=1.1->yfinance) (0.5.1)\n",
            "Requirement already satisfied: python-dateutil>=2.8.2 in /usr/local/lib/python3.10/dist-packages (from pandas>=1.3.0->yfinance) (2.8.2)\n",
            "Requirement already satisfied: tzdata>=2022.7 in /usr/local/lib/python3.10/dist-packages (from pandas>=1.3.0->yfinance) (2024.2)\n",
            "Requirement already satisfied: charset-normalizer<4,>=2 in /usr/local/lib/python3.10/dist-packages (from requests>=2.31->yfinance) (3.3.2)\n",
            "Requirement already satisfied: idna<4,>=2.5 in /usr/local/lib/python3.10/dist-packages (from requests>=2.31->yfinance) (3.10)\n",
            "Requirement already satisfied: urllib3<3,>=1.21.1 in /usr/local/lib/python3.10/dist-packages (from requests>=2.31->yfinance) (2.2.3)\n",
            "Requirement already satisfied: certifi>=2017.4.17 in /usr/local/lib/python3.10/dist-packages (from requests>=2.31->yfinance) (2024.8.30)\n"
          ]
        },
        {
          "output_type": "stream",
          "name": "stderr",
          "text": [
            "\r[*********************100%***********************]  1 of 1 completed\n"
          ]
        },
        {
          "output_type": "stream",
          "name": "stdout",
          "text": [
            "Tesla Stock Data:\n",
            "                   Open        High         Low       Close   Adj Close  \\\n",
            "Date                                                                     \n",
            "2024-09-09  216.199997  219.869995  213.669998  216.270004  216.270004   \n",
            "2024-09-10  220.070007  226.399994  218.639999  226.169998  226.169998   \n",
            "2024-09-11  224.550003  228.470001  216.800003  228.130005  228.130005   \n",
            "2024-09-12  224.660004  231.449997  223.830002  229.809998  229.809998   \n",
            "2024-09-13  228.000000  232.669998  226.320007  230.289993  230.289993   \n",
            "\n",
            "              Volume  \n",
            "Date                  \n",
            "2024-09-09  67443500  \n",
            "2024-09-10  78891100  \n",
            "2024-09-11  83548600  \n",
            "2024-09-12  72020000  \n",
            "2024-09-13  59515100  \n"
          ]
        },
        {
          "output_type": "display_data",
          "data": {
            "text/plain": [
              "<Figure size 1000x600 with 1 Axes>"
            ],
            "image/png": "[encoded data removed]"
          },
          "metadata": {}
        }
      ]
    },
    {
      "cell_type": "markdown",
      "source": [
        "### Converting JSON Document to a Pandas Object Using `json.dumps()`"
      ],
      "metadata": {
        "id": "Y_T0XPxocjUb"
      }
    },
    {
      "cell_type": "code",
      "source": [
        "import json\n",
        "\n",
        "# sample: JSON data\n",
        "json_data = {\n",
        "    \"employees\": [\n",
        "        {\"name\": \"Devi\", \"age\": 30, \"department\": \"HR\"},\n",
        "        {\"name\": \"Tio\", \"age\": 25, \"department\": \"Engineering\"},\n",
        "        {\"name\": \"Zikra\", \"age\": 35, \"department\": \"Sales\"}\n",
        "    ]\n",
        "}\n",
        "\n",
        "# convert dictionary to JSON string\n",
        "json_str = json.dumps(json_data)\n",
        "print(\"JSON String:\\n\", json_str)\n",
        "\n",
        "# parse JSON string back to dictionary\n",
        "parsed_json = json.loads(json_str)\n",
        "\n",
        "# convert to Pandas DataFrame\n",
        "df_employees = pd.json_normalize(parsed_json, 'employees')\n",
        "print(\"\\nEmployees DataFrame:\\n\", df_employees)"
      ],
      "metadata": {
        "colab": {
          "base_uri": "https://localhost:8080/"
        },
        "id": "lTK3Ljgqa1Jw",
        "outputId": "bf925159-e25d-4bd9-b1a6-b688668a71f9"
      },
      "execution_count": 16,
      "outputs": [
        {
          "output_type": "stream",
          "name": "stdout",
          "text": [
            "JSON String:\n",
            " {\"employees\": [{\"name\": \"Devi\", \"age\": 30, \"department\": \"HR\"}, {\"name\": \"Tio\", \"age\": 25, \"department\": \"Engineering\"}, {\"name\": \"Zikra\", \"age\": 35, \"department\": \"Sales\"}]}\n",
            "\n",
            "Employees DataFrame:\n",
            "     name  age   department\n",
            "0   Devi   30           HR\n",
            "1    Tio   25  Engineering\n",
            "2  Zikra   35        Sales\n"
          ]
        }
      ]
    },
    {
      "cell_type": "markdown",
      "source": [
        "### Combining DataFrames\n",
        "Combining two DataFrames vertically and horizontally."
      ],
      "metadata": {
        "id": "3HaUTnLscdTW"
      }
    },
    {
      "cell_type": "code",
      "source": [
        "df1 = pd.DataFrame({\n",
        "    'EmployeeID': [9001, 9002, 9003],\n",
        "    'Name': ['Steven', 'Ibrahim', 'Yusa']\n",
        "})\n",
        "\n",
        "df2 = pd.DataFrame({\n",
        "    'EmployeeID': [9004, 9005],\n",
        "    'Name': ['Ardi', 'Laura']\n",
        "})\n",
        "\n",
        "# vertical concatenation\n",
        "combined_df_vertical = pd.concat([df1, df2], ignore_index=True)\n",
        "print(\"Combined DataFrame (Vertical):\\n\", combined_df_vertical)\n",
        "\n",
        "# another DataFrame for horizontal concatenation\n",
        "df3 = pd.DataFrame({\n",
        "    'Age': [25, 30, 35, 28, 22],\n",
        "    'Department': ['HR', 'Engineering', 'Sales', 'Marketing', 'Finance']\n",
        "})\n",
        "\n",
        "# horizontal concatenation\n",
        "combined_df_horizontal = pd.concat([combined_df_vertical, df3], axis=1)\n",
        "print(\"\\nCombined DataFrame (Horizontal):\\n\", combined_df_horizontal)"
      ],
      "metadata": {
        "colab": {
          "base_uri": "https://localhost:8080/"
        },
        "id": "knPsZNzHbF6F",
        "outputId": "2a20c960-b269-45e1-c5a5-eb6a7802e1a0"
      },
      "execution_count": 17,
      "outputs": [
        {
          "output_type": "stream",
          "name": "stdout",
          "text": [
            "Combined DataFrame (Vertical):\n",
            "    EmployeeID     Name\n",
            "0        9001   Steven\n",
            "1        9002  Ibrahim\n",
            "2        9003     Yusa\n",
            "3        9004     Ardi\n",
            "4        9005    Laura\n",
            "\n",
            "Combined DataFrame (Horizontal):\n",
            "    EmployeeID     Name  Age   Department\n",
            "0        9001   Steven   25           HR\n",
            "1        9002  Ibrahim   30  Engineering\n",
            "2        9003     Yusa   35        Sales\n",
            "3        9004     Ardi   28    Marketing\n",
            "4        9005    Laura   22      Finance\n"
          ]
        }
      ]
    },
    {
      "cell_type": "markdown",
      "source": [
        "### One-to-Many Joins\n",
        "Joining two DataFrames where one has multiple related records in the other."
      ],
      "metadata": {
        "id": "S-ZYi6O0cYGR"
      }
    },
    {
      "cell_type": "code",
      "source": [
        "employees_2 = pd.DataFrame({\n",
        "    'EmployeeID': [9001, 9002, 9003],\n",
        "    'Name': ['Laura', 'Yulia', 'Ardi']\n",
        "})\n",
        "\n",
        "# one employee can have multiple projects\n",
        "projects = pd.DataFrame({\n",
        "    'ProjectID': [101, 102, 103, 104],\n",
        "    'EmployeeID': [9001, 9002, 9001, 9003],\n",
        "    'ProjectName': ['Project A', 'Project B', 'Project C', 'Project D']\n",
        "})\n",
        "\n",
        "# one-to-many join on 'EmployeeID'\n",
        "merged_df = pd.merge(employees_2, projects, on='EmployeeID', how='left')\n",
        "print(\"One-to-Many Joined DataFrame:\\n\", merged_df)\n"
      ],
      "metadata": {
        "colab": {
          "base_uri": "https://localhost:8080/"
        },
        "id": "7e47S85UbcIn",
        "outputId": "45c597cc-dd83-45d4-f1d8-a3bb4d429660"
      },
      "execution_count": 18,
      "outputs": [
        {
          "output_type": "stream",
          "name": "stdout",
          "text": [
            "One-to-Many Joined DataFrame:\n",
            "    EmployeeID   Name  ProjectID ProjectName\n",
            "0        9001  Laura        101   Project A\n",
            "1        9001  Laura        103   Project C\n",
            "2        9002  Yulia        102   Project B\n",
            "3        9003   Ardi        104   Project D\n"
          ]
        }
      ]
    },
    {
      "cell_type": "markdown",
      "source": [
        "### Aggregating Data with `groupby()`\n",
        "Grouping data and performing aggregate functions."
      ],
      "metadata": {
        "id": "R3djuDGZcOXT"
      }
    },
    {
      "cell_type": "code",
      "source": [
        "sales_data = pd.DataFrame({\n",
        "    'Employee': ['Farren', 'Erika', 'Maman', 'Yusa', 'Ardi', 'Candra', 'Auliya'],\n",
        "    'Month': ['January', 'January', 'January', 'February', 'February', 'February', 'March'],\n",
        "    'Sales': [2000, 1500, 3000, 2500, 1800, 3200, 2700]\n",
        "})\n",
        "\n",
        "print(\"Sales Data:\\n\", sales_data)\n",
        "\n",
        "# grouping by Employee and calculating total sales\n",
        "total_sales = sales_data.groupby('Employee')['Sales'].sum()\n",
        "print(\"\\nTotal Sales per Employee:\\n\", total_sales)\n",
        "\n",
        "# grouping by Month and calculating average sales\n",
        "average_sales_month = sales_data.groupby('Month')['Sales'].mean()\n",
        "print(\"\\nAverage Sales per Month:\\n\", average_sales_month)"
      ],
      "metadata": {
        "colab": {
          "base_uri": "https://localhost:8080/"
        },
        "id": "89hPT8BZb3Lc",
        "outputId": "c89380be-bd8d-4920-b905-641bf6416eae"
      },
      "execution_count": 19,
      "outputs": [
        {
          "output_type": "stream",
          "name": "stdout",
          "text": [
            "Sales Data:\n",
            "   Employee     Month  Sales\n",
            "0   Farren   January   2000\n",
            "1    Erika   January   1500\n",
            "2    Maman   January   3000\n",
            "3     Yusa  February   2500\n",
            "4     Ardi  February   1800\n",
            "5   Candra  February   3200\n",
            "6   Auliya     March   2700\n",
            "\n",
            "Total Sales per Employee:\n",
            " Employee\n",
            "Ardi      1800\n",
            "Auliya    2700\n",
            "Candra    3200\n",
            "Erika     1500\n",
            "Farren    2000\n",
            "Maman     3000\n",
            "Yusa      2500\n",
            "Name: Sales, dtype: int64\n",
            "\n",
            "Average Sales per Month:\n",
            " Month\n",
            "February    2500.000000\n",
            "January     2166.666667\n",
            "March       2700.000000\n",
            "Name: Sales, dtype: float64\n"
          ]
        }
      ]
    },
    {
      "cell_type": "markdown",
      "source": [
        "## **scikit-learn**\n",
        "scikit-learn is a Python package designed for `machine learning applications`, providing efficient, easy-to-use tools for common machine learning problems.\n",
        "\n",
        "### **Key Features of Pandas**\n",
        "scikit-learn is an open-source machine learning Python library that supports various machine learning models, such as classification, regression, and clustering algorithms. It provides algorithms for machine learning tasks including classification, regression, dimensionality reduction, and clustering, and also provides modules for extracting features, processing data, and evaluating models.\n",
        "\n",
        "### **Example of Use Case**\n",
        "Here is an example of using scikit-learn to split a dataset into training and testing sets:"
      ],
      "metadata": {
        "id": "Ly7bN4CbpNam"
      }
    },
    {
      "cell_type": "code",
      "source": [
        "from sklearn.datasets import load_diabetes\n",
        "from sklearn.model_selection import train_test_split\n",
        "\n",
        "# load the data\n",
        "diabetes = load_diabetes()\n",
        "data = diabetes.data\n",
        "target = diabetes.target\n",
        "\n",
        "# DataFrame to ease the handling\n",
        "import pandas as pd\n",
        "df = pd.DataFrame(data, columns=diabetes.feature_names)\n",
        "df['target'] = target\n",
        "\n",
        "# extract features and target (sentiments)\n",
        "reviews = df[diabetes.feature_names].values  # features\n",
        "sentiments = df['target'].values  # target variable\n",
        "\n",
        "# split the data into training and testing sets\n",
        "reviews_train, reviews_test, sentiment_train, sentiment_test = train_test_split(\n",
        "    reviews, sentiments, test_size=0.2, random_state=500\n",
        ")"
      ],
      "metadata": {
        "id": "1ElEqx_rpgcc"
      },
      "execution_count": 20,
      "outputs": []
    },
    {
      "cell_type": "markdown",
      "source": [
        "This code uses the `train_test_split` function from the `sklearn.model_selection` module to split the dataset into training and testing sets."
      ],
      "metadata": {
        "id": "T4kJOYM4pjZL"
      }
    },
    {
      "cell_type": "markdown",
      "source": [
        "Another example using Iris dataset, a classic dataset for classification."
      ],
      "metadata": {
        "id": "KG-NbG_udHot"
      }
    },
    {
      "cell_type": "code",
      "source": [
        "from sklearn import datasets\n",
        "\n",
        "# load\n",
        "iris = datasets.load_iris()\n",
        "print(\"Feature Names:\", iris.feature_names)\n",
        "print(\"Target Names:\", iris.target_names)\n",
        "\n",
        "df_iris = pd.DataFrame(data=iris.data, columns=iris.feature_names)\n",
        "df_iris['Species'] = iris.target\n",
        "print(\"\\nIris DataFrame:\\n\", df_iris.head())"
      ],
      "metadata": {
        "colab": {
          "base_uri": "https://localhost:8080/"
        },
        "id": "aei5Lc_Ol_UX",
        "outputId": "4681aaa2-8e3c-4ef5-9855-cfd3732d742f"
      },
      "execution_count": 21,
      "outputs": [
        {
          "output_type": "stream",
          "name": "stdout",
          "text": [
            "Feature Names: ['sepal length (cm)', 'sepal width (cm)', 'petal length (cm)', 'petal width (cm)']\n",
            "Target Names: ['setosa' 'versicolor' 'virginica']\n",
            "\n",
            "Iris DataFrame:\n",
            "    sepal length (cm)  sepal width (cm)  petal length (cm)  petal width (cm)  \\\n",
            "0                5.1               3.5                1.4               0.2   \n",
            "1                4.9               3.0                1.4               0.2   \n",
            "2                4.7               3.2                1.3               0.2   \n",
            "3                4.6               3.1                1.5               0.2   \n",
            "4                5.0               3.6                1.4               0.2   \n",
            "\n",
            "   Species  \n",
            "0        0  \n",
            "1        0  \n",
            "2        0  \n",
            "3        0  \n",
            "4        0  \n"
          ]
        }
      ]
    },
    {
      "cell_type": "markdown",
      "source": [
        "### Splitting the Dataset into Training and Test Sets"
      ],
      "metadata": {
        "id": "xkUmndSudO0j"
      }
    },
    {
      "cell_type": "code",
      "source": [
        "# features and target\n",
        "X = iris.data\n",
        "y = iris.target\n",
        "\n",
        "# split: 80% train, 20% test\n",
        "X_train, X_test, y_train, y_test = train_test_split(X, y, test_size=0.2, random_state=42)\n",
        "\n",
        "print(\"Training set size:\", X_train.shape)\n",
        "print(\"Test set size:\", X_test.shape)"
      ],
      "metadata": {
        "colab": {
          "base_uri": "https://localhost:8080/"
        },
        "id": "KJOf6HgSmkB5",
        "outputId": "8e68ac32-c1ef-4421-8f74-bd6bf9197d32"
      },
      "execution_count": 22,
      "outputs": [
        {
          "output_type": "stream",
          "name": "stdout",
          "text": [
            "Training set size: (120, 4)\n",
            "Test set size: (30, 4)\n"
          ]
        }
      ]
    },
    {
      "cell_type": "markdown",
      "source": [
        "### Transforming Text into Numerical Feature Vectors\n",
        "Using `CountVectorizer` to convert text data into numerical vectors. For demonstration, let's use a simple list of sentences."
      ],
      "metadata": {
        "id": "_VtdaZsNdRDW"
      }
    },
    {
      "cell_type": "code",
      "source": [
        "from sklearn.feature_extraction.text import CountVectorizer\n",
        "\n",
        "# text data\n",
        "documents = [\n",
        "    \"Machine learning is fascinating.\",\n",
        "    \"Python is great for machine learning.\",\n",
        "    \"Natural Language Processing with Python.\"\n",
        "]\n",
        "\n",
        "# init\n",
        "vectorizer = CountVectorizer()\n",
        "\n",
        "# fit and transform\n",
        "X = vectorizer.fit_transform(documents)\n",
        "\n",
        "# convert to array\n",
        "print(\"Feature Names:\", vectorizer.get_feature_names_out())\n",
        "print(\"\\nFeature Vectors:\\n\", X.toarray())"
      ],
      "metadata": {
        "colab": {
          "base_uri": "https://localhost:8080/"
        },
        "id": "uhUW0uKLmuMG",
        "outputId": "851770e3-c4fa-45bd-de55-513f12fbccf7"
      },
      "execution_count": 23,
      "outputs": [
        {
          "output_type": "stream",
          "name": "stdout",
          "text": [
            "Feature Names: ['fascinating' 'for' 'great' 'is' 'language' 'learning' 'machine'\n",
            " 'natural' 'processing' 'python' 'with']\n",
            "\n",
            "Feature Vectors:\n",
            " [[1 0 0 1 0 1 1 0 0 0 0]\n",
            " [0 1 1 1 0 1 1 0 0 1 0]\n",
            " [0 0 0 0 1 0 0 1 1 1 1]]\n"
          ]
        }
      ]
    },
    {
      "cell_type": "markdown",
      "source": [
        "### Training and Evaluating a Model\n",
        "Train a simple Logistic Regression model on the Iris dataset."
      ],
      "metadata": {
        "id": "H4cSye87dXbB"
      }
    },
    {
      "cell_type": "code",
      "source": [
        "from sklearn.linear_model import LogisticRegression\n",
        "from sklearn.metrics import accuracy_score\n",
        "\n",
        "# model\n",
        "model = LogisticRegression(max_iter=200)\n",
        "\n",
        "# train\n",
        "model.fit(X_train, y_train)\n",
        "\n",
        "# predict\n",
        "y_pred = model.predict(X_test)\n",
        "\n",
        "# evaluate\n",
        "accuracy = accuracy_score(y_test, y_pred)\n",
        "print(\"Model Accuracy:\", accuracy)"
      ],
      "metadata": {
        "colab": {
          "base_uri": "https://localhost:8080/"
        },
        "id": "lF-qEtBmm6-s",
        "outputId": "2899888b-f928-4efb-b54f-20730879f94b"
      },
      "execution_count": 24,
      "outputs": [
        {
          "output_type": "stream",
          "name": "stdout",
          "text": [
            "Model Accuracy: 1.0\n"
          ]
        }
      ]
    },
    {
      "cell_type": "markdown",
      "source": [
        "### Making Predictions on New Data\n",
        "Using the trained model to predict the species of new Iris samples."
      ],
      "metadata": {
        "id": "Qc3vwBB5dc9b"
      }
    },
    {
      "cell_type": "code",
      "source": [
        "# new data\n",
        "new_samples = np.array([[5.1, 3.5, 1.4, 0.2],\n",
        "                        [6.2, 3.4, 5.4, 2.3],\n",
        "                        [5.9, 3.0, 5.1, 1.8]])\n",
        "\n",
        "# predict\n",
        "predictions = model.predict(new_samples)\n",
        "\n",
        "# mapping target to species names\n",
        "species = iris.target_names[predictions]\n",
        "print(\"Predicted Species:\", species)"
      ],
      "metadata": {
        "colab": {
          "base_uri": "https://localhost:8080/"
        },
        "id": "-6uCZBkvnD67",
        "outputId": "9a70c143-155a-43d6-e274-4bbf76c6c18b"
      },
      "execution_count": 25,
      "outputs": [
        {
          "output_type": "stream",
          "name": "stdout",
          "text": [
            "Predicted Species: ['setosa' 'virginica' 'virginica']\n"
          ]
        }
      ]
    }
  ]
}